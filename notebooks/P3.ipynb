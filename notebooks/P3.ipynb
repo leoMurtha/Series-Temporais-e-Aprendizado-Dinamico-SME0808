{
 "cells": [
  {
   "cell_type": "markdown",
   "metadata": {},
   "source": [
    "# Project 3 - SME808\n",
    "* Leonardo Meireles - NUSP: 4182085\n",
    "* Antonio Moreira - NUSP: 9779242\n",
    "\n",
    "## Objective\n",
    "* Dynamic Linear Models\n",
    "* TS Final project"
   ]
  },
  {
   "cell_type": "code",
   "execution_count": null,
   "metadata": {
    "ExecuteTime": {
     "end_time": "2020-12-19T18:32:58.015799Z",
     "start_time": "2020-12-19T18:32:53.470622Z"
    },
    "code_folding": []
   },
   "outputs": [],
   "source": [
    "# Basic packages\n",
    "import numpy as np  # linear algebra\n",
    "import pandas as pd  # data processing, CSV file I/O (e.g. pd.read_csv)\n",
    "import random as rd  # generating random numbers\n",
    "import datetime  # manipulating date formats\n",
    "# Viz\n",
    "import matplotlib.pyplot as plt  # basic plotting\n",
    "import matplotlib.dates as mdates\n",
    "import seaborn as sns  # for prettier plots\n",
    "import matplotlib.style as style\n",
    "style.use('seaborn-white')\n",
    "\n",
    "# TIME SERIES\n",
    "from statsmodels.tsa.arima_model import ARIMA\n",
    "from statsmodels.tsa.statespace.sarimax import SARIMAX\n",
    "from pandas.plotting import autocorrelation_plot\n",
    "from statsmodels.tsa.stattools import adfuller, acf, pacf, arma_order_select_ic\n",
    "import statsmodels.formula.api as smf\n",
    "import statsmodels.tsa.api as smt\n",
    "import statsmodels.api as sm\n",
    "import scipy.stats as scs\n",
    "import scipy.special as sc\n",
    "import pydlm\n",
    "\n",
    "plt.rcParams.update({'font.size': 14})\n",
    "\n",
    "# settings\n",
    "import warnings\n",
    "warnings.filterwarnings(\"ignore\")"
   ]
  },
  {
   "cell_type": "code",
   "execution_count": null,
   "metadata": {
    "ExecuteTime": {
     "end_time": "2020-12-19T18:32:58.031537Z",
     "start_time": "2020-12-19T18:32:58.017574Z"
    },
    "code_folding": [
     0
    ]
   },
   "outputs": [],
   "source": [
    "def tsplot(y, lags=None, figsize=(14, 8), style='ggplot',title=''):\n",
    "    if not isinstance(y, pd.Series):\n",
    "        y = pd.Series(y)\n",
    "    with plt.style.context(style):    \n",
    "        fig = plt.figure(figsize=figsize)\n",
    "        layout = (3, 2)\n",
    "        # Defining the subplot axes\n",
    "        ts_ax = plt.subplot2grid(layout, (0, 0), colspan=2)\n",
    "        acf_ax = plt.subplot2grid(layout, (1, 0))\n",
    "        pacf_ax = plt.subplot2grid(layout, (1, 1))\n",
    "        \n",
    "        y.plot(ax=ts_ax)\n",
    "        ts_ax.set_title(title)\n",
    "        # Auto correlation plot(MA)\n",
    "        smt.graphics.plot_acf(y, lags=lags, ax=acf_ax, alpha=0.5)\n",
    "        # Parcial ACF(AR)\n",
    "        smt.graphics.plot_pacf(y, lags=lags, ax=pacf_ax, alpha=0.5)\n",
    "\n",
    "        plt.tight_layout()\n",
    "        plt.plot()"
   ]
  },
  {
   "cell_type": "markdown",
   "metadata": {},
   "source": [
    "# House Property Sales Time Series\n",
    "* Collected property sales data for the 2007-2019 period for one specific region. The data contains sales prices for houses and units with 1,2,3,4,5 bedrooms. These are the cross-depended variables.\n",
    "* The other csv file contains the raw data but re-sampled at quarterly intervals using a median aggregator.\n",
    "* The data can be summarised as:\n",
    "\n",
    "    * date of sale\n",
    "    * price\n",
    "    * property type: unit or house\n",
    "    * number of bedrooms: 1,2,3,4,5 (these are the multi-variables we are targeting)\n",
    "    * 4digit postcode (this is for reference only, we don't expect that this data point will be useful)\n",
    "\n",
    "* Goal is to predict the next 8 quartes with the lowest mse prediction error\n",
    "\n",
    "* **Data taken from https://www.kaggle.com/htagholdings/property-sales** "
   ]
  },
  {
   "cell_type": "code",
   "execution_count": null,
   "metadata": {
    "ExecuteTime": {
     "end_time": "2020-12-19T18:42:48.096253Z",
     "start_time": "2020-12-19T18:42:48.048120Z"
    }
   },
   "outputs": [],
   "source": [
    "df = pd.read_csv('../data/house_sales/raw_sales.csv')\n",
    "df['data'] = pd.to_datetime(df.datesold)"
   ]
  },
  {
   "cell_type": "code",
   "execution_count": null,
   "metadata": {
    "ExecuteTime": {
     "end_time": "2020-12-19T18:42:48.654812Z",
     "start_time": "2020-12-19T18:42:48.633867Z"
    }
   },
   "outputs": [],
   "source": [
    "df = df[np.abs(df.price - df.price.mean()) <= (5.0 * df.price.std())] # Clean the outliers"
   ]
  },
  {
   "cell_type": "code",
   "execution_count": null,
   "metadata": {
    "ExecuteTime": {
     "end_time": "2020-12-19T18:42:49.135476Z",
     "start_time": "2020-12-19T18:42:49.112665Z"
    }
   },
   "outputs": [],
   "source": [
    "df = df[(df.propertyType=='house') & (df.bedrooms >= 2)]\n",
    "df = df.drop(['postcode', 'propertyType', 'datesold'], axis=1)"
   ]
  },
  {
   "cell_type": "code",
   "execution_count": null,
   "metadata": {
    "ExecuteTime": {
     "end_time": "2020-12-19T18:43:00.343196Z",
     "start_time": "2020-12-19T18:43:00.330230Z"
    }
   },
   "outputs": [],
   "source": [
    "# # cleaning outliers\n",
    "# df_clean = pd.DataFrame()\n",
    "# #df = df[np.abs(df.price - df.price.mean()) <= (5.0 * df.price.std())] # Clean the outliers\n",
    "\n",
    "# for n_bedrooms in df.bedrooms.unique():\n",
    "#     df_b = df[df.bedrooms == n_bedrooms].copy()\n",
    "    \n",
    "#     df_b = df_b[np.abs(df_b.price - df_b.price.mean()) <= (5 * df_b.price.std())] # Clean the outliers\n",
    "    \n",
    "#     df_clean = df_clean.append(df_b, sort=True, ignore_index=True)\n",
    "    \n",
    "# df_clean.groupby([pd.Grouper(key='data', freq='1M'), 'bedrooms']).median()['price'].unstack().plot(figsize=(16, 5))"
   ]
  },
  {
   "cell_type": "code",
   "execution_count": null,
   "metadata": {
    "ExecuteTime": {
     "end_time": "2020-12-19T18:43:46.810189Z",
     "start_time": "2020-12-19T18:43:46.634660Z"
    }
   },
   "outputs": [],
   "source": [
    "df_clean.groupby([pd.Grouper(key='data', freq='3M'), 'bedrooms']).median()['price'].unstack().plot(figsize=(16, 5))"
   ]
  },
  {
   "cell_type": "code",
   "execution_count": null,
   "metadata": {
    "ExecuteTime": {
     "end_time": "2020-12-19T18:43:57.086330Z",
     "start_time": "2020-12-19T18:43:57.071009Z"
    }
   },
   "outputs": [],
   "source": [
    "df = pd.get_dummies(df, columns=['bedrooms'], prefix='n_quarto')"
   ]
  },
  {
   "cell_type": "code",
   "execution_count": null,
   "metadata": {
    "ExecuteTime": {
     "end_time": "2020-12-19T18:44:01.209406Z",
     "start_time": "2020-12-19T18:44:01.184471Z"
    }
   },
   "outputs": [],
   "source": [
    "df_monthly = df.groupby([pd.Grouper(key='data', freq='1M', closed='left')]).sum()"
   ]
  },
  {
   "cell_type": "code",
   "execution_count": null,
   "metadata": {
    "ExecuteTime": {
     "end_time": "2020-12-19T19:07:57.798773Z",
     "start_time": "2020-12-19T19:07:57.333745Z"
    }
   },
   "outputs": [],
   "source": [
    "# Set the locator\n",
    "locator = mdates.MonthLocator()  # every month\n",
    "# Specify the format - %b gives us Jan, Feb...\n",
    "fmt = mdates.DateFormatter('%b')\n",
    "\n",
    "diff_df = df_monthly.diff(1)\n",
    "\n",
    "ax = df_monthly[(df_monthly.index.year) >= 2015].price.plot(figsize=(16, 5), x_compat=True)\n",
    "\n",
    "#ax.set_xticklabels(xlabels, Rotation=2)\n",
    "# set monthly locator\n",
    "ax.xaxis.set_major_locator(locator)\n",
    "# set formatter\n",
    "ax.xaxis.set_major_formatter(fmt)\n",
    "# set font and rotation for date tick labels\n",
    "plt.gcf().autofmt_xdate()\n",
    "\n",
    "ax.tick_params(axis='x', rotation=70)\n",
    "plt.show()"
   ]
  },
  {
   "cell_type": "code",
   "execution_count": null,
   "metadata": {
    "ExecuteTime": {
     "end_time": "2020-12-19T18:54:03.152954Z",
     "start_time": "2020-12-19T18:54:03.024294Z"
    }
   },
   "outputs": [],
   "source": [
    "df_monthly.price.plot(figsize=(16, 5))"
   ]
  },
  {
   "cell_type": "markdown",
   "metadata": {},
   "source": [
    "# Sazonalidade anual jan-fev sempre cai, periodo = 12\n",
    "# Tendencia que muda a longo do tempo, degree = 1 (parece linear)"
   ]
  },
  {
   "cell_type": "code",
   "execution_count": null,
   "metadata": {
    "ExecuteTime": {
     "end_time": "2020-12-19T18:49:19.104780Z",
     "start_time": "2020-12-19T18:49:19.095773Z"
    }
   },
   "outputs": [],
   "source": [
    "time_series = df_monthly.price"
   ]
  },
  {
   "cell_type": "code",
   "execution_count": null,
   "metadata": {
    "ExecuteTime": {
     "end_time": "2020-12-19T19:06:54.134941Z",
     "start_time": "2020-12-19T19:06:54.118020Z"
    }
   },
   "outputs": [],
   "source": [
    "from pydlm import dlm, trend, seasonality\n",
    "# A linear trend\n",
    "linear_trend = trend(degree=1, discount=0.9, name='Tendencia Linear', w=5)\n",
    "# A seasonality\n",
    "yearly = seasonality(period=12, discount=0.98, name='Anual', w=5)\n",
    "#quarter = seasonality(period=3, discount=0.90, name='Trimestral', w=10)\n",
    "\n",
    "# Build a simple dlm\n",
    "simple_dlm = dlm(time_series) + linear_trend + yearly# + quarter\n"
   ]
  },
  {
   "cell_type": "code",
   "execution_count": null,
   "metadata": {
    "ExecuteTime": {
     "end_time": "2020-12-19T19:06:55.024266Z",
     "start_time": "2020-12-19T19:06:54.854720Z"
    }
   },
   "outputs": [],
   "source": [
    "simple_dlm.fit()\n",
    "\n",
    "# Plot each component (attribute the time series to each component)\n",
    "simple_dlm.turnOn('predict plot')\n",
    "simple_dlm.turnOff('filtered plot')\n",
    "simple_dlm.turnOff('smoothed plot')\n",
    "\n",
    "#simple_dlm.plot('linear_trend')\n",
    "simple_dlm.plot()"
   ]
  },
  {
   "cell_type": "code",
   "execution_count": null,
   "metadata": {
    "ExecuteTime": {
     "end_time": "2020-12-19T19:05:32.770682Z",
     "start_time": "2020-12-19T19:05:32.191228Z"
    }
   },
   "outputs": [],
   "source": [
    "simple_dlm.plot('Tendencia Linear')\n",
    "simple_dlm.plot('Anual')\n",
    "#simple_dlm.plot('Trimestral')"
   ]
  },
  {
   "cell_type": "code",
   "execution_count": null,
   "metadata": {
    "ExecuteTime": {
     "end_time": "2020-12-19T18:53:47.646599Z",
     "start_time": "2020-12-19T18:53:47.631605Z"
    }
   },
   "outputs": [],
   "source": [
    "simple_dlm.getMSE()"
   ]
  },
  {
   "cell_type": "code",
   "execution_count": null,
   "metadata": {
    "ExecuteTime": {
     "end_time": "2020-12-19T18:54:58.645196Z",
     "start_time": "2020-12-19T18:54:58.639210Z"
    }
   },
   "outputs": [],
   "source": [
    "features = df_monthly[df_monthly.columns.difference(['price'])].values"
   ]
  },
  {
   "cell_type": "code",
   "execution_count": null,
   "metadata": {
    "ExecuteTime": {
     "end_time": "2020-12-19T18:56:45.228974Z",
     "start_time": "2020-12-19T18:56:44.856806Z"
    }
   },
   "outputs": [],
   "source": [
    "from pydlm import dynamic\n",
    "regressor10 = dynamic(features=features, discount=1, name='regressor10', w=10)\n",
    "\n",
    "drm = dlm(time_series) + linear_trend + yearly + regressor10\n",
    "drm.fit()\n",
    "drm.getMSE()\n",
    "\n",
    "# Plot the fitted results\n",
    "drm.turnOff('data points')\n",
    "drm.plot()"
   ]
  },
  {
   "cell_type": "code",
   "execution_count": null,
   "metadata": {
    "ExecuteTime": {
     "end_time": "2020-12-19T18:56:47.659113Z",
     "start_time": "2020-12-19T18:56:47.534843Z"
    }
   },
   "outputs": [],
   "source": [
    "# Plot each component (attribute the time series to each component)\n",
    "drm.turnOn('predict plot')\n",
    "drm.turnOff('filtered plot')\n",
    "drm.turnOff('smoothed plot')\n",
    "\n",
    "#drm.plot('linear_trend')\n",
    "drm.plot()\n"
   ]
  },
  {
   "cell_type": "code",
   "execution_count": null,
   "metadata": {
    "ExecuteTime": {
     "end_time": "2020-12-19T18:56:55.161347Z",
     "start_time": "2020-12-19T18:56:55.039541Z"
    }
   },
   "outputs": [],
   "source": [
    "drm.plotPredictN(date=100, N=49)"
   ]
  }
 ],
 "metadata": {
  "kernelspec": {
   "display_name": "Python 3",
   "language": "python",
   "name": "python3"
  },
  "language_info": {
   "codemirror_mode": {
    "name": "ipython",
    "version": 3
   },
   "file_extension": ".py",
   "mimetype": "text/x-python",
   "name": "python",
   "nbconvert_exporter": "python",
   "pygments_lexer": "ipython3",
   "version": "3.8.3"
  },
  "latex_envs": {
   "LaTeX_envs_menu_present": true,
   "autoclose": false,
   "autocomplete": true,
   "bibliofile": "biblio.bib",
   "cite_by": "apalike",
   "current_citInitial": 1,
   "eqLabelWithNumbers": true,
   "eqNumInitial": 1,
   "hotkeys": {
    "equation": "Ctrl-E",
    "itemize": "Ctrl-I"
   },
   "labels_anchors": false,
   "latex_user_defs": false,
   "report_style_numbering": false,
   "user_envs_cfg": false
  },
  "toc": {
   "base_numbering": 1,
   "nav_menu": {},
   "number_sections": true,
   "sideBar": true,
   "skip_h1_title": false,
   "title_cell": "Table of Contents",
   "title_sidebar": "Contents",
   "toc_cell": false,
   "toc_position": {},
   "toc_section_display": true,
   "toc_window_display": false
  }
 },
 "nbformat": 4,
 "nbformat_minor": 4
}
